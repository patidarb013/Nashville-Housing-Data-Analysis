{
 "cells": [
  {
   "cell_type": "code",
   "execution_count": 43,
   "id": "83da0e5f",
   "metadata": {},
   "outputs": [
    {
     "name": "stdout",
     "output_type": "stream",
     "text": [
      "Missing Values:\n",
      "Unnamed: 0                               0\n",
      "Parcel ID                                0\n",
      "Land Use                                 0\n",
      "Property Address                         2\n",
      "Suite/ Condo   #                     22651\n",
      "Property City                            2\n",
      "Sale Date                                0\n",
      "Legal Reference                          0\n",
      "Sold As Vacant                           0\n",
      "Multiple Parcels Involved in Sale        0\n",
      "City                                     0\n",
      "State                                    0\n",
      "Acreage                                  0\n",
      "Tax District                             0\n",
      "Neighborhood                             0\n",
      "Land Value                               0\n",
      "Building Value                           0\n",
      "Finished Area                            1\n",
      "Foundation Type                          1\n",
      "Year Built                               0\n",
      "Exterior Wall                            0\n",
      "Grade                                    0\n",
      "Bedrooms                                 3\n",
      "Full Bath                                1\n",
      "Half Bath                              108\n",
      "Sale Price Compared To Value             0\n",
      "dtype: int64\n"
     ]
    }
   ],
   "source": [
    "import pandas as pd\n",
    "from sklearn.impute import SimpleImputer\n",
    "\n",
    "# Load the dataset\n",
    "Database = pd.read_csv(\"/Users/bhaveshpatidar/Desktop/week 4 - Nashville_housing_data.csv\")\n",
    "\n",
    "# Set display options to show all columns and rows\n",
    "pd.set_option('display.max_columns', None)\n",
    "pd.set_option('display.max_rows', None)\n",
    "\n",
    "# Check for missing values\n",
    "missing_values = Database.isnull().sum()\n",
    "print(\"Missing Values:\")\n",
    "print(missing_values)\n"
   ]
  },
  {
   "cell_type": "code",
   "execution_count": 44,
   "id": "48d0e18a",
   "metadata": {},
   "outputs": [
    {
     "name": "stdout",
     "output_type": "stream",
     "text": [
      "Remaining columns after dropping specified columns:\n",
      "Index(['Parcel ID', 'Land Use', 'Property Address', 'Sale Date',\n",
      "       'Legal Reference', 'Sold As Vacant',\n",
      "       'Multiple Parcels Involved in Sale', 'City', 'State', 'Acreage',\n",
      "       'Tax District', 'Neighborhood', 'Land Value', 'Building Value',\n",
      "       'Finished Area', 'Foundation Type', 'Year Built', 'Exterior Wall',\n",
      "       'Grade', 'Bedrooms', 'Full Bath', 'Half Bath',\n",
      "       'Sale Price Compared To Value'],\n",
      "      dtype='object')\n"
     ]
    }
   ],
   "source": [
    "import pandas as pd\n",
    "\n",
    "# Define columns to drop\n",
    "columns_to_drop = ['Unnamed: 0', 'Suite/ Condo   #','Property City']\n",
    "\n",
    "# Drop specified columns\n",
    "Database = Database.drop(columns=columns_to_drop)\n",
    "\n",
    "# Display remaining columns\n",
    "remaining_columns = Database.columns\n",
    "print(\"Remaining columns after dropping specified columns:\")\n",
    "print(remaining_columns)\n"
   ]
  },
  {
   "cell_type": "code",
   "execution_count": 45,
   "id": "b983a141",
   "metadata": {},
   "outputs": [
    {
     "name": "stdout",
     "output_type": "stream",
     "text": [
      "Missing Values after dropping rows:\n",
      "Parcel ID                            0\n",
      "Land Use                             0\n",
      "Property Address                     0\n",
      "Sale Date                            0\n",
      "Legal Reference                      0\n",
      "Sold As Vacant                       0\n",
      "Multiple Parcels Involved in Sale    0\n",
      "City                                 0\n",
      "State                                0\n",
      "Acreage                              0\n",
      "Tax District                         0\n",
      "Neighborhood                         0\n",
      "Land Value                           0\n",
      "Building Value                       0\n",
      "Finished Area                        0\n",
      "Foundation Type                      0\n",
      "Year Built                           0\n",
      "Exterior Wall                        0\n",
      "Grade                                0\n",
      "Bedrooms                             0\n",
      "Full Bath                            0\n",
      "Half Bath                            0\n",
      "Sale Price Compared To Value         0\n",
      "dtype: int64\n"
     ]
    }
   ],
   "source": [
    "# Drop rows with missing values\n",
    "Database.dropna(inplace=True)\n",
    "\n",
    "# Check if any missing values remain\n",
    "print(\"Missing Values after dropping rows:\")\n",
    "print(Database.isnull().sum())\n"
   ]
  },
  {
   "cell_type": "code",
   "execution_count": 46,
   "id": "eb0b436c",
   "metadata": {},
   "outputs": [
    {
     "name": "stdout",
     "output_type": "stream",
     "text": [
      "Shape of the dataset after removing duplicates: (22495, 23)\n"
     ]
    }
   ],
   "source": [
    "# Remove duplicate rows\n",
    "Database.drop_duplicates(inplace=True)\n",
    "\n",
    "# Check the shape of the dataset after removing duplicates\n",
    "print(\"Shape of the dataset after removing duplicates:\", Database.shape)"
   ]
  },
  {
   "cell_type": "code",
   "execution_count": 48,
   "id": "4fa60fde",
   "metadata": {},
   "outputs": [
    {
     "name": "stdout",
     "output_type": "stream",
     "text": [
      "         Parcel ID       Land Use   Property Address Sale Date  \\\n",
      "0  105 11 0 080.00  SINGLE FAMILY   1802  STEWART PL   1/11/13   \n",
      "1  118 03 0 130.00  SINGLE FAMILY  2761  ROSEDALE PL   1/18/13   \n",
      "2  119 01 0 479.00  SINGLE FAMILY  224  PEACHTREE ST   1/18/13   \n",
      "3  119 05 0 186.00  SINGLE FAMILY      316  LUTIE ST   1/23/13   \n",
      "4  119 05 0 387.00  SINGLE FAMILY   2626  FOSTER AVE    1/4/13   \n",
      "\n",
      "    Legal Reference Sold As Vacant Multiple Parcels Involved in Sale  \\\n",
      "0  20130118-0006337             No                                No   \n",
      "1  20130124-0008033             No                                No   \n",
      "2  20130128-0008863             No                                No   \n",
      "3  20130131-0009929             No                                No   \n",
      "4  20130118-0006110             No                                No   \n",
      "\n",
      "        City State  Acreage             Tax District  Neighborhood  \\\n",
      "0  NASHVILLE    TN     0.17  URBAN SERVICES DISTRICT          3127   \n",
      "1  NASHVILLE    TN     0.11       CITY OF BERRY HILL          9126   \n",
      "2  NASHVILLE    TN     0.17  URBAN SERVICES DISTRICT          3130   \n",
      "3  NASHVILLE    TN     0.34  URBAN SERVICES DISTRICT          3130   \n",
      "4  NASHVILLE    TN     0.17  URBAN SERVICES DISTRICT          3130   \n",
      "\n",
      "   Land Value  Building Value  Finished Area Foundation Type  Year Built  \\\n",
      "0       32000          134400     1149.00000         PT BSMT        1941   \n",
      "1       34000          157800     2090.82495            SLAB        2000   \n",
      "2       25000          243700     2145.60001       FULL BSMT        1948   \n",
      "3       25000          138100     1969.00000           CRAWL        1910   \n",
      "4       25000           86100     1037.00000           CRAWL        1945   \n",
      "\n",
      "  Exterior Wall Grade  Bedrooms  Full Bath  Half Bath  \\\n",
      "0         BRICK  C          2.0        1.0        0.0   \n",
      "1   BRICK/FRAME  C          3.0        2.0        1.0   \n",
      "2   BRICK/FRAME  B          4.0        2.0        0.0   \n",
      "3         FRAME  C          2.0        1.0        0.0   \n",
      "4         FRAME  C          2.0        1.0        0.0   \n",
      "\n",
      "  Sale Price Compared To Value  Age  Total Bathrooms  Has Basement  \n",
      "0                         Over   83              1.0             1  \n",
      "1                         Over   24              2.5             0  \n",
      "2                        Under   76              2.0             1  \n",
      "3                        Under  114              1.0             0  \n",
      "4                        Under   79              1.0             0  \n"
     ]
    }
   ],
   "source": [
    "import pandas as pd\n",
    "import numpy as np\n",
    "\n",
    "# Assuming DataFrame is already defined as \"Database\"\n",
    "\n",
    "# Calculate age of property from 'Year Built'\n",
    "current_year = pd.Timestamp.now().year\n",
    "Database['Age'] = current_year - Database['Year Built']\n",
    "\n",
    "# Calculate total number of bathrooms\n",
    "Database['Total Bathrooms'] = Database['Full Bath'] + 0.5 * Database['Half Bath']\n",
    "\n",
    "# Create binary variable indicating presence of a basement\n",
    "Database['Has Basement'] = np.where(Database['Foundation Type'].str.contains('BSMT'), 1, 0)\n",
    "\n",
    "# Print first few rows to verify the new features\n",
    "print(Database.head())\n"
   ]
  },
  {
   "cell_type": "code",
   "execution_count": 30,
   "id": "dbf3a38c",
   "metadata": {},
   "outputs": [
    {
     "name": "stdout",
     "output_type": "stream",
     "text": [
      "Classification Report:\n",
      "              precision    recall  f1-score   support\n",
      "\n",
      "           0       1.00      0.00      0.00      1130\n",
      "           1       0.75      1.00      0.86      3369\n",
      "\n",
      "    accuracy                           0.75      4499\n",
      "   macro avg       0.87      0.50      0.43      4499\n",
      "weighted avg       0.81      0.75      0.64      4499\n",
      "\n"
     ]
    }
   ],
   "source": [
    "from sklearn.model_selection import train_test_split\n",
    "from sklearn.linear_model import LogisticRegression\n",
    "from sklearn.metrics import classification_report\n",
    "\n",
    "# Define features and target variable\n",
    "features = ['Age', 'Total Bathrooms', 'Has Basement']  # Add other relevant features\n",
    "X = Database[features]\n",
    "y = (Database['Sale Price Compared To Value'] == 'Over').astype(int)  # Convert target variable to binary\n",
    "\n",
    "# Split the data into training and testing sets\n",
    "X_train, X_test, y_train, y_test = train_test_split(X, y, test_size=0.2, random_state=42)\n",
    "\n",
    "# Initialize and train the logistic regression model\n",
    "log_reg_model = LogisticRegression()\n",
    "log_reg_model.fit(X_train, y_train)\n",
    "\n",
    "# Predictions on the testing set\n",
    "y_pred = log_reg_model.predict(X_test)\n",
    "\n",
    "# Model evaluation\n",
    "print(\"Classification Report:\")\n",
    "print(classification_report(y_test, y_pred))"
   ]
  },
  {
   "cell_type": "code",
   "execution_count": 33,
   "id": "2bad9267",
   "metadata": {},
   "outputs": [
    {
     "name": "stdout",
     "output_type": "stream",
     "text": [
      "Decision Tree Classification Report:\n",
      "              precision    recall  f1-score   support\n",
      "\n",
      "           0       0.36      0.08      0.13      1130\n",
      "           1       0.76      0.95      0.84      3369\n",
      "\n",
      "    accuracy                           0.73      4499\n",
      "   macro avg       0.56      0.52      0.49      4499\n",
      "weighted avg       0.66      0.73      0.66      4499\n",
      "\n"
     ]
    }
   ],
   "source": [
    "from sklearn.tree import DecisionTreeClassifier\n",
    "\n",
    "# Define features and target variable\n",
    "features = ['Age', 'Total Bathrooms', 'Has Basement']  # Add other relevant features\n",
    "X = Database[features]\n",
    "y = (Database['Sale Price Compared To Value'] == 'Over').astype(int)  # Convert target variable to binary\n",
    "\n",
    "# Split the data into training and testing sets\n",
    "X_train, X_test, y_train, y_test = train_test_split(X, y, test_size=0.2, random_state=42)\n",
    "\n",
    "# Initialize and train the decision tree model\n",
    "decision_tree_model = DecisionTreeClassifier()\n",
    "decision_tree_model.fit(X_train, y_train)\n",
    "\n",
    "# Predictions on the testing set\n",
    "y_pred_tree = decision_tree_model.predict(X_test)\n",
    "\n",
    "# Model evaluation\n",
    "print(\"Decision Tree Classification Report:\")\n",
    "print(classification_report(y_test, y_pred_tree))"
   ]
  },
  {
   "cell_type": "code",
   "execution_count": 34,
   "id": "8a7ca3d0",
   "metadata": {},
   "outputs": [
    {
     "name": "stdout",
     "output_type": "stream",
     "text": [
      "Random Forest Classification Report:\n",
      "              precision    recall  f1-score   support\n",
      "\n",
      "        Over       0.76      0.82      0.79      3369\n",
      "       Under       0.29      0.22      0.25      1130\n",
      "\n",
      "    accuracy                           0.67      4499\n",
      "   macro avg       0.52      0.52      0.52      4499\n",
      "weighted avg       0.64      0.67      0.65      4499\n",
      "\n"
     ]
    }
   ],
   "source": [
    "from sklearn.ensemble import RandomForestClassifier\n",
    "from sklearn.model_selection import train_test_split\n",
    "from sklearn.metrics import classification_report\n",
    "\n",
    "# Features and target variable\n",
    "X = Database[['Finished Area', 'Year Built']]\n",
    "y = Database['Sale Price Compared To Value']\n",
    "\n",
    "# Train-test split\n",
    "X_train, X_test, y_train, y_test = train_test_split(X, y, test_size=0.2, random_state=42)\n",
    "\n",
    "# Initialize Random Forest classifier\n",
    "rf_classifier = RandomForestClassifier(n_estimators=100, random_state=42)\n",
    "\n",
    "# Train the model\n",
    "rf_classifier.fit(X_train, y_train)\n",
    "\n",
    "# Make predictions\n",
    "y_pred = rf_classifier.predict(X_test)\n",
    "\n",
    "# Evaluate the model\n",
    "print(\"Random Forest Classification Report:\")\n",
    "print(classification_report(y_test, y_pred))"
   ]
  },
  {
   "cell_type": "code",
   "execution_count": 35,
   "id": "4836204c",
   "metadata": {},
   "outputs": [
    {
     "name": "stdout",
     "output_type": "stream",
     "text": [
      "Gradient Boosting Classification Report:\n",
      "              precision    recall  f1-score   support\n",
      "\n",
      "        Over       0.75      0.99      0.86      3369\n",
      "       Under       0.53      0.03      0.06      1130\n",
      "\n",
      "    accuracy                           0.75      4499\n",
      "   macro avg       0.64      0.51      0.46      4499\n",
      "weighted avg       0.70      0.75      0.65      4499\n",
      "\n"
     ]
    }
   ],
   "source": [
    "from sklearn.ensemble import GradientBoostingClassifier\n",
    "from sklearn.model_selection import train_test_split\n",
    "from sklearn.metrics import classification_report\n",
    "\n",
    "# Features and target variable\n",
    "X = Database[['Finished Area', 'Year Built']]\n",
    "y = Database['Sale Price Compared To Value']\n",
    "\n",
    "# Train-test split\n",
    "X_train, X_test, y_train, y_test = train_test_split(X, y, test_size=0.2, random_state=42)\n",
    "\n",
    "# Initialize Gradient Boosting classifier\n",
    "gb_classifier = GradientBoostingClassifier(n_estimators=100, random_state=42)\n",
    "\n",
    "# Train the model\n",
    "gb_classifier.fit(X_train, y_train)\n",
    "\n",
    "# Make predictions\n",
    "y_pred = gb_classifier.predict(X_test)\n",
    "\n",
    "# Evaluate the model\n",
    "print(\"Gradient Boosting Classification Report:\")\n",
    "print(classification_report(y_test, y_pred))"
   ]
  },
  {
   "cell_type": "code",
   "execution_count": 36,
   "id": "9f5a7e0b",
   "metadata": {},
   "outputs": [
    {
     "name": "stdout",
     "output_type": "stream",
     "text": [
      "--- Logistic Regression ---\n",
      "              precision    recall  f1-score   support\n",
      "\n",
      "        Over       0.75      1.00      0.86      3369\n",
      "       Under       0.67      0.00      0.01      1130\n",
      "\n",
      "    accuracy                           0.75      4499\n",
      "   macro avg       0.71      0.50      0.43      4499\n",
      "weighted avg       0.73      0.75      0.64      4499\n",
      "\n",
      "--- Gradient Boosting ---\n",
      "              precision    recall  f1-score   support\n",
      "\n",
      "        Over       0.75      0.99      0.86      3369\n",
      "       Under       0.53      0.03      0.06      1130\n",
      "\n",
      "    accuracy                           0.75      4499\n",
      "   macro avg       0.64      0.51      0.46      4499\n",
      "weighted avg       0.70      0.75      0.65      4499\n",
      "\n",
      "--- Decision Tree ---\n",
      "              precision    recall  f1-score   support\n",
      "\n",
      "        Over       0.76      0.80      0.78      3369\n",
      "       Under       0.28      0.24      0.26      1130\n",
      "\n",
      "    accuracy                           0.66      4499\n",
      "   macro avg       0.52      0.52      0.52      4499\n",
      "weighted avg       0.64      0.66      0.65      4499\n",
      "\n",
      "--- Random Forest ---\n",
      "              precision    recall  f1-score   support\n",
      "\n",
      "        Over       0.76      0.82      0.79      3369\n",
      "       Under       0.29      0.22      0.25      1130\n",
      "\n",
      "    accuracy                           0.67      4499\n",
      "   macro avg       0.52      0.52      0.52      4499\n",
      "weighted avg       0.64      0.67      0.65      4499\n",
      "\n"
     ]
    }
   ],
   "source": [
    "from sklearn.model_selection import train_test_split\n",
    "from sklearn.metrics import classification_report\n",
    "from sklearn.linear_model import LogisticRegression\n",
    "from sklearn.ensemble import GradientBoostingClassifier, RandomForestClassifier\n",
    "from sklearn.tree import DecisionTreeClassifier\n",
    "\n",
    "# Features and target variable\n",
    "X = Database[['Finished Area', 'Year Built']]\n",
    "y = Database['Sale Price Compared To Value']\n",
    "\n",
    "# Train-test split\n",
    "X_train, X_test, y_train, y_test = train_test_split(X, y, test_size=0.2, random_state=42)\n",
    "\n",
    "# Models\n",
    "models = {\n",
    "    \"Logistic Regression\": LogisticRegression(),\n",
    "    \"Gradient Boosting\": GradientBoostingClassifier(n_estimators=100, random_state=42),\n",
    "    \"Decision Tree\": DecisionTreeClassifier(random_state=42),\n",
    "    \"Random Forest\": RandomForestClassifier(n_estimators=100, random_state=42)\n",
    "}\n",
    "\n",
    "# Evaluate and compare models\n",
    "for name, model in models.items():\n",
    "    print(f\"--- {name} ---\")\n",
    "    # Train the model\n",
    "    model.fit(X_train, y_train)\n",
    "    # Make predictions\n",
    "    y_pred = model.predict(X_test)\n",
    "    # Classification report\n",
    "    print(classification_report(y_test, y_pred))"
   ]
  },
  {
   "cell_type": "code",
   "execution_count": null,
   "id": "3163ab48",
   "metadata": {},
   "outputs": [],
   "source": []
  }
 ],
 "metadata": {
  "kernelspec": {
   "display_name": "Python 3 (ipykernel)",
   "language": "python",
   "name": "python3"
  },
  "language_info": {
   "codemirror_mode": {
    "name": "ipython",
    "version": 3
   },
   "file_extension": ".py",
   "mimetype": "text/x-python",
   "name": "python",
   "nbconvert_exporter": "python",
   "pygments_lexer": "ipython3",
   "version": "3.11.5"
  }
 },
 "nbformat": 4,
 "nbformat_minor": 5
}
